{
 "cells": [
  {
   "cell_type": "markdown",
   "metadata": {},
   "source": [
    "## Homework 3, Problem 3 on inhomogeneous Poisson processes\n",
    "\n",
    "ECE C143A/C243A, Spring Quarter 2021, Prof. J.C. Kao, TAs T. Monsoor, S. Balla.\n"
   ]
  },
  {
   "cell_type": "markdown",
   "metadata": {},
   "source": [
    " In this problem, we will use the same simulated neuron as in\n",
    "  Problem 2, but now the reaching angle $s$ will be time-dependent\n",
    "  with the following form:\n",
    "$$ s(t) = t^2 \\cdot \\pi,$$\n",
    "\n",
    "where $t$ ranges between 0 and 1 second. This will be refered as *s(t)* equation in the questions.\n"
   ]
  },
  {
   "cell_type": "code",
   "execution_count": 2,
   "metadata": {},
   "outputs": [],
   "source": [
    "\"\"\"\n",
    "ECE C143/C243 Homework-3 Problem-3\n",
    "\n",
    "\"\"\"\n",
    "import numpy as np\n",
    "import matplotlib.pyplot as plt\n",
    "import nsp as nsp # these are helper functions that we provide.\n",
    "import scipy.special\n",
    "\n",
    "# Load matplotlib images inline\n",
    "%matplotlib inline\n",
    "\n",
    "# Reloading any code written in external .py files.\n",
    "%load_ext autoreload\n",
    "%autoreload 2"
   ]
  },
  {
   "cell_type": "markdown",
   "metadata": {},
   "source": [
    "### (a) (6 points) Spike trains\n",
    "Generate 100 spike trains, each 1 second in duration, according to\n",
    "an inhomogeneous Poisson process with a firing rate profile defined\n",
    "by tuning equation, $$\\lambda(s) = r_0 + (r_\\text{max} - r_0)\\cos(s-s_\\text{max})$$ \n",
    "and the $s(t)$ equation, $$ s(t) = t^2 \\cdot \\pi$$"
   ]
  },
  {
   "cell_type": "code",
   "execution_count": 3,
   "metadata": {},
   "outputs": [],
   "source": [
    "r_0 = 35 # (spikes/s)\n",
    "r_max = 60 # (spikes/s)\n",
    "s_max = np.pi/2 # (radians)\n",
    "T = 1000 # trial length (ms)"
   ]
  },
  {
   "cell_type": "code",
   "execution_count": 4,
   "metadata": {},
   "outputs": [
    {
     "data": {
      "text/plain": [
       "17.4593451778259"
      ]
     },
     "execution_count": 4,
     "metadata": {},
     "output_type": "execute_result"
    }
   ],
   "source": [
    "np.random.exponential(1.0/r_max * 1000)"
   ]
  },
  {
   "cell_type": "code",
   "execution_count": 7,
   "metadata": {},
   "outputs": [
    {
     "data": {
      "image/png": "[encoded data removed]",
      "text/plain": [
       "<Figure size 432x288 with 1 Axes>"
      ]
     },
     "metadata": {
      "needs_background": "light"
     },
     "output_type": "display_data"
    }
   ],
   "source": [
    "## 3a\n",
    "num_trials = 100 # number of total spike trains\n",
    "num_rasters_to_plot = 5 # number of spike trains to plot\n",
    "#====================================================#\n",
    "# YOUR CODE HERE:\n",
    "#   Generate the spike times for 100 trials of an inhomogeneous\n",
    "#   Poisson process.  Plot 5 example spike rasters.\n",
    "#====================================================#\n",
    "spike_times = np.empty(num_trials, dtype=list)\n",
    "spike_trains = np.empty(num_trials, dtype=list)\n",
    "spike_trains_list = []\n",
    "\n",
    "for trial in range(num_trials):\n",
    "    #create exponentially distributed spike times for each trial with lambda max\n",
    "    spike_time = np.random.exponential(1.0/r_max * 1000)\n",
    "    trial_spike_times = list()\n",
    "    while spike_time <= T:\n",
    "        trial_spike_times.append(spike_time)\n",
    "        new_spike_time = np.random.exponential(1.0/r_max * 1000)\n",
    "        spike_time = spike_time + new_spike_time\n",
    "    \n",
    "    spike_times[trial] = np.array(trial_spike_times)\n",
    "    #print(spike_times[trial])\n",
    "    #calculate probability that we keep spike Ti\n",
    "    \n",
    "    spike_train = []\n",
    "    for time in spike_times[trial]:\n",
    "        reach_angle = ((time/1000)*(time/1000)) * np.pi\n",
    "        lam_time = r_0 + (r_max-r_0)*np.cos(reach_angle-s_max)\n",
    "        keep_prob = lam_time/r_max\n",
    "        \n",
    "        #sample from uniform distribution and if greater than prob, discard, else keep\n",
    "        uniform_sample = np.random.uniform()\n",
    "        if uniform_sample < keep_prob:\n",
    "            spike_train.append(time)\n",
    "        spike_trains[trial] = np.array(spike_train)\n",
    "        spike_trains_list.append(spike_train)\n",
    "        \n",
    "nsp.PlotSpikeRaster(spike_trains[0:num_rasters_to_plot])\n",
    "plt.title('Spike trains')\n",
    "plt.tight_layout()\n",
    "#====================================================#\n",
    "# END YOUR CODE\n",
    "#====================================================#\n"
   ]
  },
  {
   "cell_type": "markdown",
   "metadata": {},
   "source": [
    "### (b) (5 points) Spike histogram\n",
    "  Plot the spike histogram by taking spike counts in non-overlapping\n",
    "  20 ms bins, then averaging across the 100 trials.  The spike\n",
    "  histogram should have firing rate (in spikes / second) as the\n",
    "  vertical axis and time (in msec, not time bin index) as the\n",
    "  horizontal axis. Plot the expected firing rate profile defined by equations\n",
    " tuning equation and *s(t)* equation on the same plot. "
   ]
  },
  {
   "cell_type": "code",
   "execution_count": 11,
   "metadata": {},
   "outputs": [
    {
     "data": {
      "text/plain": [
       "Text(0.5, 0, 'Time(ms)')"
      ]
     },
     "execution_count": 11,
     "metadata": {},
     "output_type": "execute_result"
    },
    {
     "data": {
      "image/png": "[encoded data removed]",
      "text/plain": [
       "<Figure size 432x288 with 1 Axes>"
      ]
     },
     "metadata": {
      "needs_background": "light"
     },
     "output_type": "display_data"
    }
   ],
   "source": [
    "# 3b\n",
    "bin_width = 20 # (ms)\n",
    "#====================================================#\n",
    "# YOUR CODE HERE:\n",
    "#   Plot the spike histogram\n",
    "#====================================================#\n",
    "#print(spike_trains_list)\n",
    "spike_counts_bins= np.zeros((num_trials, 50))\n",
    "    \n",
    "for rep in range(num_trials): #100\n",
    "    trial_size = spike_trains[rep].size\n",
    "        \n",
    "    for i in range(trial_size):\n",
    "        bin_num = 0\n",
    "        t_in = 0\n",
    "        t_out = bin_width\n",
    "        while(t_out <= 1000):\n",
    "            if spike_trains[rep][i]<t_out:\n",
    "                if spike_trains[rep][i]>=t_in:\n",
    "                    spike_counts_bins[rep,bin_num]+=1\n",
    "            t_in = t_out\n",
    "            t_out = t_out + bin_width\n",
    "            bin_num+=1\n",
    "        #print(spike_counts_bins[rep])\n",
    "spike_counts_mean= np.mean(spike_counts_bins, axis=0)\n",
    "spike_counts_sec = spike_counts_mean*50\n",
    "#print(spike_counts_sec)\n",
    "#plt.hist(np.array(spike_counts_sec), bins = 50)\n",
    "plt.bar(np.arange(0,1000,20),spike_counts_sec, width=12)\n",
    "\n",
    "t = np.linspace(0,T,1000)\n",
    "reach_angle = np.pi*(t/1000)*(t/1000)\n",
    "\n",
    "lam_time = r_0 + (r_max-r_0)*np.cos(reach_angle-s_max)\n",
    "plt.plot(t, lam_time)\n",
    "#====================================================#\n",
    "# END YOUR CODE\n",
    "#====================================================#\n",
    "\n",
    "plt.ylabel('spikes/s')\n",
    "plt.xlabel('Time(ms)')"
   ]
  },
  {
   "cell_type": "markdown",
   "metadata": {},
   "source": [
    "#### Question:\n",
    "Does the spike histogram agree with the expected firing rate profile?"
   ]
  },
  {
   "cell_type": "markdown",
   "metadata": {},
   "source": [
    "#### Your Answer: Yes the spike historgram agrees with the expected firing rate profile."
   ]
  },
  {
   "cell_type": "markdown",
   "metadata": {},
   "source": [
    "### (c) (6 points) Count distribution\n",
    "  For each trial, count the number of spikes across the entire trial.\n",
    "  Plot the normalized distribution of spike counts.  Fit a Poisson\n",
    "  distribution to this empirical distribution and plot it on top of\n",
    "  the empirical distribution.  "
   ]
  },
  {
   "cell_type": "code",
   "execution_count": 21,
   "metadata": {},
   "outputs": [
    {
     "data": {
      "image/png": "[encoded data removed]",
      "text/plain": [
       "<Figure size 432x288 with 1 Axes>"
      ]
     },
     "metadata": {
      "needs_background": "light"
     },
     "output_type": "display_data"
    }
   ],
   "source": [
    "#====================================================#\n",
    "# YOUR CODE HERE:\n",
    "#   Plot the normalized distribution of spike counts\n",
    "#====================================================#\n",
    "spike_counts = np.empty(num_trials, dtype=list)\n",
    "\n",
    "for trial in range(num_trials):\n",
    "    spike_counts[trial] = np.size(spike_times[trial])\n",
    "#print(spike_counts)\n",
    "max_count = np.max(spike_counts)\n",
    "spike_count_bin_centers =  np.arange(0,max_count,1)\n",
    "mean_spike_count = (np.sum(spike_counts))/100\n",
    "\n",
    "import scipy.stats\n",
    "mean_poisson = np.mean(spike_counts)\n",
    "plt.plot(scipy.stats.poisson.pmf(mu=mean_poisson, k=np.arange(max_count)))\n",
    "    #mu = mean_spike_count\n",
    "    #poisson.pmf(x, mu)\n",
    "    #ax.plot(x, poisson.pmf(x, mu), 'bo', ms=8, label='poisson pmf')\n",
    "\n",
    "plt.hist(spike_counts, bins=spike_count_bin_centers, density=True)\n",
    "\n",
    "#====================================================#\n",
    "# END YOUR CODE\n",
    "#====================================================#\n",
    "plt.xlabel('spike count')\n",
    "plt.ylabel('p(spikecount)')\n",
    "plt.show()"
   ]
  },
  {
   "cell_type": "markdown",
   "metadata": {},
   "source": [
    "#### Question:\n",
    "Should we expect the spike counts to be Poisson-distributed?"
   ]
  },
  {
   "cell_type": "markdown",
   "metadata": {},
   "source": [
    "#### Your Answer: Yes we should expect the spike counts to be Poisson-distributed"
   ]
  },
  {
   "cell_type": "markdown",
   "metadata": {},
   "source": [
    "### (d) (5 points) ISI distribution\n",
    "  Plot the normalized distribution of ISIs.  Fit an exponential\n",
    "  distribution to the empirical distribution and plot it on top of the\n",
    "  empirical distribution. "
   ]
  },
  {
   "cell_type": "code",
   "execution_count": 23,
   "metadata": {},
   "outputs": [
    {
     "data": {
      "image/png": "[encoded data removed]",
      "text/plain": [
       "<Figure size 720x576 with 1 Axes>"
      ]
     },
     "metadata": {
      "needs_background": "light"
     },
     "output_type": "display_data"
    }
   ],
   "source": [
    "#====================================================#\n",
    "# YOUR CODE HERE:\n",
    "#   Plot the normalized distribution of ISIs\n",
    "#====================================================#\n",
    "plt.figure(figsize=(10,8))\n",
    "trial_size = spike_times.size\n",
    "intervals = []\n",
    "    #print(np.arange(trial_size))\n",
    "for trial in np.arange(trial_size):\n",
    "    intervals = np.append(intervals, np.diff(spike_times[trial]))\n",
    "    \n",
    "isi_mean = np.mean(intervals)\n",
    "lambda_exp = 1/isi_mean\n",
    "    \n",
    "plt.hist(intervals, bins = 50, density= True)\n",
    "max_interval = max(intervals)\n",
    "t = np.linspace(0,max_interval, 30)\n",
    "exp_dist = lambda_exp*np.exp(-lambda_exp*t)\n",
    "plt.plot(t, exp_dist)\n",
    "\n",
    "#====================================================#\n",
    "# END YOUR CODE\n",
    "#====================================================#\n",
    "plt.xlabel('ISI (ms)')\n",
    "plt.ylabel('P(ISI)')\n",
    "plt.show()"
   ]
  },
  {
   "cell_type": "markdown",
   "metadata": {},
   "source": [
    "#### Question: \n",
    "Should we expect the ISIs to be exponentially-distributed?\n",
    "(Note, it is possible for the  empirical distribution to strongly resemble an exponential distribution even if the data aren't exponentially distributed.)"
   ]
  },
  {
   "cell_type": "markdown",
   "metadata": {},
   "source": [
    "#### Your Answer: Yes we should expect the ISIs to be exponentially-distributed"
   ]
  }
 ],
 "metadata": {
  "kernelspec": {
   "display_name": "Python 3",
   "language": "python",
   "name": "python3"
  },
  "language_info": {
   "codemirror_mode": {
    "name": "ipython",
    "version": 3
   },
   "file_extension": ".py",
   "mimetype": "text/x-python",
   "name": "python",
   "nbconvert_exporter": "python",
   "pygments_lexer": "ipython3",
   "version": "3.8.8"
  }
 },
 "nbformat": 4,
 "nbformat_minor": 2
}
