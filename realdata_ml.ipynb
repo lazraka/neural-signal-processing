{
 "cells": [
  {
   "cell_type": "markdown",
   "metadata": {},
   "source": [
    "## Homework 4, Problem 4 Classification on real data\n",
    "\n",
    "ECE C143A/C243A, Spring Quarter 2021, Prof. J.C. Kao, TAs T. Monsoor, S. Balla"
   ]
  },
  {
   "cell_type": "markdown",
   "metadata": {},
   "source": [
    "## Background\n",
    "Neural prosthetic systems can be built based on classifying neural activity related to planning. As described in class, this is analogous to mapping patterns of neural activity to keys on a keyboard.\n",
    "In this problem, we will apply the results of Problems 1 and 2 to real neural data. The neural data were recorded using a 100-electrode array in premotor cortex of a macaque monkey1. The dataset can be found on CCLE as `ps4_realdata.mat`.\n",
    "\n",
    "The following describes the data format. The `.mat` file is loaded into Python as a dictionary with two keys: `train_trial` contains the training data and `test_trial` contains the test data. Each of these contains spike trains recorded simultaneously from 97 neurons while the monkey reached 91 times along each of 8 different reaching angles.\n",
    "\n",
    "The spike train recorded from the $i_{th}$ neuron on the $n_{th}$ trial of the $k_{th}$ reaching angle is accessed as \n",
    "\n",
    "`data['train_trial'][n,k][1][i,:]`\n",
    "\n",
    "where n = 0,...,90, k = 0,...,7, and i = 0, . . . , 96.  The [1] in between [n,k] and [i,:] does not mean anything for this assignment and is simply an \"artifact\" of how the data is structured. A spike train is represented as a sequence of zeros and ones, where time is discretized in 1 ms steps. A zero indicates that the neuron did not spike in the 1 ms bin, whereas a one indicates that the neuron spiked once in the 1 ms bin. The structure test trial has the same format as train trial.\n",
    "\n",
    "Each spike train is 700 ms long (and thus represented by an array of length 700).  This comprises a 200ms baseline period (before the reach target turned on), a 500ms planning period (after the reach target turned on).  Because it takes time for information about the reach target to arrive in premotor cortex (due to the time required for action potentials to propagate and for visual processing), we will ignore the first 150ms of the planning period.  *** FOR THIS PROBLEM, we will take spike counts for each neuron within a single 200ms bin starting 150ms after the reach target turns on. ***\n",
    "\n",
    "In other words, to calculate firing rates, you will calculate it over the 200ms window: \n",
    "\n",
    "`data['train_trial'][n,k][1][i,350:550]`"
   ]
  },
  {
   "cell_type": "code",
   "execution_count": 1,
   "metadata": {},
   "outputs": [],
   "source": [
    "import numpy as np\n",
    "import numpy.matlib as npm\n",
    "import matplotlib.pyplot as plt\n",
    "import scipy.special\n",
    "import scipy.io as sio\n",
    "import math\n",
    "\n",
    "data = sio.loadmat('ps4_realdata.mat') # load the .mat file.\n",
    "NumTrainData = data['train_trial'].shape[0]\n",
    "NumClass = data['train_trial'].shape[1]\n",
    "NumTestData = data['test_trial'].shape[0]\n",
    "\n",
    "# Reloading any code written in external .py files.\n",
    "%load_ext autoreload\n",
    "%autoreload 2"
   ]
  },
  {
   "cell_type": "markdown",
   "metadata": {},
   "source": [
    "### (a) (8 points) \n",
    "Fit the ML parameters of model i) to the training data (91 × 8 observations of a length 97 array of neuron firing rates). \n",
    "\n",
    "To calculate the firing rates, use a single 200ms bin starting from 150ms after the target turns on.  This corresponds to using `data['train_trial'][n,k][1][i, 350:550]` to calculate all firing rates.  This corresponds to a 200ms window that turns on 150ms after the reach turns on.\n",
    "\n",
    "Then, use these parameters to classify the test data (91 × 8 data points) according to the decision rule (1). What is the percent of test data points correctly classified?"
   ]
  },
  {
   "cell_type": "code",
   "execution_count": 30,
   "metadata": {},
   "outputs": [
    {
     "name": "stdout",
     "output_type": "stream",
     "text": [
      "0.9574175824175825\n"
     ]
    }
   ],
   "source": [
    "##4a\n",
    "\n",
    "# Calculate the firing rates.\n",
    "\n",
    "trainDataArr =  np.zeros((NumClass,NumTrainData,97)) # contains the firing rates for all neurons on all 8 x 91 trials in the training set\n",
    "testDataArr =  np.zeros((NumClass,NumTestData,97)) # for the testing set.\n",
    "\n",
    "for classIX in range(NumClass):\n",
    "    for trainDataIX in range(NumTrainData):   \n",
    "        trainDataArr[classIX,trainDataIX,:] = np.sum(data['train_trial'][trainDataIX,classIX][1][:,350:550],1)\n",
    "    for testDataIX in range(NumTestData):        \n",
    "        testDataArr[classIX,testDataIX,:]=np.sum(data['test_trial'][testDataIX,classIX][1][:,350:550],1)\n",
    "#====================================================#\n",
    "# YOUR CODE HERE:\n",
    "#   Fit the ML parameters of model i) to training data\n",
    "#====================================================#\n",
    "modParam1 = {}\n",
    "modParam1['pi'] = np.array([NumTrainData/(NumTrainData*NumClass)]*NumClass)\n",
    "\n",
    "modParam1['mean']=np.zeros((NumClass,97))\n",
    "for classIX in range(NumClass):\n",
    "    modParam1['mean'][classIX] = np.mean(trainDataArr[classIX], axis = 0)\n",
    "\n",
    "S_k = np.zeros((97,97))\n",
    "for classIX in range(NumClass):\n",
    "    for dataIX in range(NumTrainData):\n",
    "        u = modParam1['mean'][classIX].reshape(-1,1)\n",
    "        x = trainDataArr[classIX,dataIX].reshape(-1,1)\n",
    "        S_k += np.dot(x-u,np.transpose(x-u))\n",
    "modParam1['cov'] = S_k/(NumTrainData*NumClass)\n",
    "\n",
    "#====================================================#\n",
    "# END YOUR CODE\n",
    "#====================================================# \n",
    "\n",
    "#====================================================#\n",
    "# YOUR CODE HERE:\n",
    "#   Classify the test data and print the accuracy\n",
    "#====================================================#\n",
    "\n",
    "accuracy = 0\n",
    "for classIX in range(NumClass):\n",
    "    for dataIX in range(NumTestData):\n",
    "        data_point = testDataArr[classIX, dataIX].reshape(-1,1)\n",
    "        alphas = np.zeros(NumClass)\n",
    "        for classIX in range(NumClass):\n",
    "            class_prob = modParam1['pi'][classIX]\n",
    "            class_mean = modParam1['mean'][classIX,:].reshape(-1,1)\n",
    "            model_cov = modParam1['cov']\n",
    "            alpha_class = np.log(class_prob) + np.matmul(np.matmul(np.transpose(class_mean),np.linalg.inv(model_cov)),data_point)\\\n",
    "                    -1/2 * np.matmul(np.matmul(np.transpose(class_mean), np.linalg.inv(model_cov)),class_mean)\n",
    "            alphas[classIX] = alpha_class[0,0]\n",
    "        alpha_max = np.argmax(alphas)\n",
    "        if alpha_max == classIX:\n",
    "            accuracy += 1\n",
    "\n",
    "percent_accuracy = accuracy/(NumTestData*NumClass)\n",
    "print(percent_accuracy)\n",
    "#====================================================#\n",
    "# END YOUR CODE\n",
    "#====================================================# \n"
   ]
  },
  {
   "cell_type": "markdown",
   "metadata": {},
   "source": [
    "#### Question:\n",
    "What is the percent of test data points correctly classified?"
   ]
  },
  {
   "cell_type": "markdown",
   "metadata": {},
   "source": [
    "#### Your answer: The percent of test data points correctly classified is ~96%.\n"
   ]
  },
  {
   "cell_type": "markdown",
   "metadata": {},
   "source": [
    "### (b) (6 points) \n",
    "Repeat part (a) for model ii). You `should encounter a Python error` when classifying the test data. What is this error? Why did the Python error occur? What would we need to do to correct this error?\n",
    "\n",
    "To be concrete, the output of this cell should be a `Python error` and that's all fine.  But we want you to understand what the error is so we can fix it later.\n"
   ]
  },
  {
   "cell_type": "code",
   "execution_count": 17,
   "metadata": {},
   "outputs": [
    {
     "name": "stderr",
     "output_type": "stream",
     "text": [
      "<ipython-input-17-6adf194f34db>:32: RuntimeWarning: divide by zero encountered in log\n",
      "  alpha_class = np.log(class_prob) - 1/2 * np.log(np.linalg.det(class_cov)) - 1/2 * np.matmul(np.matmul(np.transpose(data_point-class_mean),\\\n"
     ]
    },
    {
     "ename": "LinAlgError",
     "evalue": "Singular matrix",
     "output_type": "error",
     "traceback": [
      "\u001b[0;31m---------------------------------------------------------------------------\u001b[0m",
      "\u001b[0;31mLinAlgError\u001b[0m                               Traceback (most recent call last)",
      "\u001b[0;32m<ipython-input-17-6adf194f34db>\u001b[0m in \u001b[0;36m<module>\u001b[0;34m\u001b[0m\n\u001b[1;32m     31\u001b[0m             \u001b[0mclass_cov\u001b[0m \u001b[0;34m=\u001b[0m \u001b[0mmodParam2\u001b[0m\u001b[0;34m[\u001b[0m\u001b[0;34m'cov'\u001b[0m\u001b[0;34m]\u001b[0m\u001b[0;34m[\u001b[0m\u001b[0mclassIX\u001b[0m\u001b[0;34m]\u001b[0m\u001b[0;34m\u001b[0m\u001b[0;34m\u001b[0m\u001b[0m\n\u001b[1;32m     32\u001b[0m             alpha_class = np.log(class_prob) - 1/2 * np.log(np.linalg.det(class_cov)) - 1/2 * np.matmul(np.matmul(np.transpose(data_point-class_mean),\\\n\u001b[0;32m---> 33\u001b[0;31m                                 np.linalg.inv(class_cov)),data_point-class_mean)\n\u001b[0m\u001b[1;32m     34\u001b[0m             \u001b[0malphas\u001b[0m\u001b[0;34m[\u001b[0m\u001b[0mclassIX\u001b[0m\u001b[0;34m]\u001b[0m \u001b[0;34m=\u001b[0m \u001b[0malpha_class\u001b[0m\u001b[0;34m[\u001b[0m\u001b[0;36m0\u001b[0m\u001b[0;34m,\u001b[0m\u001b[0;36m0\u001b[0m\u001b[0;34m]\u001b[0m\u001b[0;34m\u001b[0m\u001b[0;34m\u001b[0m\u001b[0m\n\u001b[1;32m     35\u001b[0m         \u001b[0malpha_max\u001b[0m \u001b[0;34m=\u001b[0m \u001b[0mnp\u001b[0m\u001b[0;34m.\u001b[0m\u001b[0margmax\u001b[0m\u001b[0;34m(\u001b[0m\u001b[0malphas\u001b[0m\u001b[0;34m)\u001b[0m\u001b[0;34m\u001b[0m\u001b[0;34m\u001b[0m\u001b[0m\n",
      "\u001b[0;32m<__array_function__ internals>\u001b[0m in \u001b[0;36minv\u001b[0;34m(*args, **kwargs)\u001b[0m\n",
      "\u001b[0;32m~/opt/anaconda3/envs/cs243/lib/python3.8/site-packages/numpy/linalg/linalg.py\u001b[0m in \u001b[0;36minv\u001b[0;34m(a)\u001b[0m\n\u001b[1;32m    543\u001b[0m     \u001b[0msignature\u001b[0m \u001b[0;34m=\u001b[0m \u001b[0;34m'D->D'\u001b[0m \u001b[0;32mif\u001b[0m \u001b[0misComplexType\u001b[0m\u001b[0;34m(\u001b[0m\u001b[0mt\u001b[0m\u001b[0;34m)\u001b[0m \u001b[0;32melse\u001b[0m \u001b[0;34m'd->d'\u001b[0m\u001b[0;34m\u001b[0m\u001b[0;34m\u001b[0m\u001b[0m\n\u001b[1;32m    544\u001b[0m     \u001b[0mextobj\u001b[0m \u001b[0;34m=\u001b[0m \u001b[0mget_linalg_error_extobj\u001b[0m\u001b[0;34m(\u001b[0m\u001b[0m_raise_linalgerror_singular\u001b[0m\u001b[0;34m)\u001b[0m\u001b[0;34m\u001b[0m\u001b[0;34m\u001b[0m\u001b[0m\n\u001b[0;32m--> 545\u001b[0;31m     \u001b[0mainv\u001b[0m \u001b[0;34m=\u001b[0m \u001b[0m_umath_linalg\u001b[0m\u001b[0;34m.\u001b[0m\u001b[0minv\u001b[0m\u001b[0;34m(\u001b[0m\u001b[0ma\u001b[0m\u001b[0;34m,\u001b[0m \u001b[0msignature\u001b[0m\u001b[0;34m=\u001b[0m\u001b[0msignature\u001b[0m\u001b[0;34m,\u001b[0m \u001b[0mextobj\u001b[0m\u001b[0;34m=\u001b[0m\u001b[0mextobj\u001b[0m\u001b[0;34m)\u001b[0m\u001b[0;34m\u001b[0m\u001b[0;34m\u001b[0m\u001b[0m\n\u001b[0m\u001b[1;32m    546\u001b[0m     \u001b[0;32mreturn\u001b[0m \u001b[0mwrap\u001b[0m\u001b[0;34m(\u001b[0m\u001b[0mainv\u001b[0m\u001b[0;34m.\u001b[0m\u001b[0mastype\u001b[0m\u001b[0;34m(\u001b[0m\u001b[0mresult_t\u001b[0m\u001b[0;34m,\u001b[0m \u001b[0mcopy\u001b[0m\u001b[0;34m=\u001b[0m\u001b[0;32mFalse\u001b[0m\u001b[0;34m)\u001b[0m\u001b[0;34m)\u001b[0m\u001b[0;34m\u001b[0m\u001b[0;34m\u001b[0m\u001b[0m\n\u001b[1;32m    547\u001b[0m \u001b[0;34m\u001b[0m\u001b[0m\n",
      "\u001b[0;32m~/opt/anaconda3/envs/cs243/lib/python3.8/site-packages/numpy/linalg/linalg.py\u001b[0m in \u001b[0;36m_raise_linalgerror_singular\u001b[0;34m(err, flag)\u001b[0m\n\u001b[1;32m     86\u001b[0m \u001b[0;34m\u001b[0m\u001b[0m\n\u001b[1;32m     87\u001b[0m \u001b[0;32mdef\u001b[0m \u001b[0m_raise_linalgerror_singular\u001b[0m\u001b[0;34m(\u001b[0m\u001b[0merr\u001b[0m\u001b[0;34m,\u001b[0m \u001b[0mflag\u001b[0m\u001b[0;34m)\u001b[0m\u001b[0;34m:\u001b[0m\u001b[0;34m\u001b[0m\u001b[0;34m\u001b[0m\u001b[0m\n\u001b[0;32m---> 88\u001b[0;31m     \u001b[0;32mraise\u001b[0m \u001b[0mLinAlgError\u001b[0m\u001b[0;34m(\u001b[0m\u001b[0;34m\"Singular matrix\"\u001b[0m\u001b[0;34m)\u001b[0m\u001b[0;34m\u001b[0m\u001b[0;34m\u001b[0m\u001b[0m\n\u001b[0m\u001b[1;32m     89\u001b[0m \u001b[0;34m\u001b[0m\u001b[0m\n\u001b[1;32m     90\u001b[0m \u001b[0;32mdef\u001b[0m \u001b[0m_raise_linalgerror_nonposdef\u001b[0m\u001b[0;34m(\u001b[0m\u001b[0merr\u001b[0m\u001b[0;34m,\u001b[0m \u001b[0mflag\u001b[0m\u001b[0;34m)\u001b[0m\u001b[0;34m:\u001b[0m\u001b[0;34m\u001b[0m\u001b[0;34m\u001b[0m\u001b[0m\n",
      "\u001b[0;31mLinAlgError\u001b[0m: Singular matrix"
     ]
    }
   ],
   "source": [
    "##4b\n",
    "\n",
    "#====================================================#\n",
    "# YOUR CODE HERE:\n",
    "# Fit the ML parameters of model ii) to training data\n",
    "#====================================================#\n",
    "modParam2 = {}\n",
    "modParam2['pi'] = np.array([NumTrainData/(NumTrainData*NumClass)]*NumClass)\n",
    "\n",
    "modParam2['mean']=np.zeros((NumClass,97))\n",
    "for classIX in range(NumClass):\n",
    "    modParam2['mean'][classIX] = np.mean(trainDataArr[classIX], axis = 0)\n",
    "\n",
    "modParam2['cov'] = np.zeros((NumClass,97,97))\n",
    "for classIX in range(NumClass):\n",
    "    S_class = np.zeros((97,97))\n",
    "    u = modParam2['mean'][classIX].reshape(-1,1)\n",
    "    for dataIX in range(NumTrainData):\n",
    "        X = trainDataArr[classIX,dataIX].reshape(-1,1)\n",
    "        S_class += np.dot(X-u,np.transpose(X-u))\n",
    "    modParam2['cov'][classIX] = S_class/NumTrainData\n",
    "\n",
    "accuracy = 0\n",
    "for classIX in range(NumClass):\n",
    "    for dataIX in range(NumTestData):\n",
    "        data_point = testDataArr[classIX, dataIX].reshape(-1,1)\n",
    "        alphas = np.zeros(NumClass)\n",
    "        for classIX in range(NumClass):\n",
    "            class_prob = modParam2['pi'][classIX]\n",
    "            class_mean = modParam2['mean'][classIX,:].reshape((-1,1))\n",
    "            class_cov = modParam2['cov'][classIX]\n",
    "            alpha_class = np.log(class_prob) - 1/2 * np.log(np.linalg.det(class_cov)) - 1/2 * np.matmul(np.matmul(np.transpose(data_point-class_mean),\\\n",
    "                                np.linalg.inv(class_cov)),data_point-class_mean)\n",
    "            alphas[classIX] = alpha_class[0,0]\n",
    "        alpha_max = np.argmax(alphas)\n",
    "        \n",
    "        if alpha_max == classIX:\n",
    "            accuracy += 1\n",
    "percent_accuracy = accuracy/(NumTestData*NumClass)\n",
    "print(percent_accuracy)\n",
    "#====================================================#\n",
    "# END YOUR CODE\n",
    "#====================================================# \n"
   ]
  },
  {
   "cell_type": "markdown",
   "metadata": {},
   "source": [
    "#### Question:\n",
    "Why did the python error occur? What would we need to do to correct this error?"
   ]
  },
  {
   "cell_type": "markdown",
   "metadata": {},
   "source": [
    "#### Your answer:  The python error occured because the covariance matrix is singular and therefore its determinant is equal to zero and it has no inverse. In order to correct this error, the neurons that have a spike train with no counts must be removed\n"
   ]
  },
  {
   "cell_type": "markdown",
   "metadata": {},
   "source": [
    "### (c) (8 points) \n",
    "Correct the problem from part (b) by detecting and then removing offending neurons that cause the error. Now, what is the percent of test data points correctly classified? Is it higher or lower than your answer to part (a)? Why might this be?"
   ]
  },
  {
   "cell_type": "code",
   "execution_count": 38,
   "metadata": {},
   "outputs": [
    {
     "name": "stdout",
     "output_type": "stream",
     "text": [
      "0.6840659340659341\n"
     ]
    }
   ],
   "source": [
    "##4c\n",
    "neuronsToRemove = []\n",
    "#====================================================#\n",
    "# YOUR CODE HERE:\n",
    "#   Detect and then remove the offending neurons, so that \n",
    "#   you no longer run into the bug in part (b).\n",
    "#====================================================#\n",
    "for classIX in range(NumClass):\n",
    "    offending_neur = (np.sum(np.transpose(trainDataArr[classIX,:,:]),axis = 1) == 0).nonzero() #This finds the indices of the boolean matrix\n",
    "    #print(offending_neur)\n",
    "    for index in offending_neur[0].tolist():\n",
    "        if index not in neuronsToRemove: #avoid duplicates, will throw error otherwise when deleting\n",
    "            neuronsToRemove.append(index)\n",
    "\n",
    "#print(neuronsToRemove)\n",
    "trainDataArr_corrected = np.delete(trainDataArr, neuronsToRemove, 2)\n",
    "testDataArr_corrected = np.delete(testDataArr, neuronsToRemove, 2)\n",
    "length_traindata = trainDataArr_corrected.shape[2]\n",
    "#print(length_traindata)\n",
    "#====================================================#\n",
    "# END YOUR CODE\n",
    "#====================================================# \n",
    "##\n",
    "#====================================================#\n",
    "# YOUR CODE HERE:\n",
    "# Fit the ML parameters,classify the test data and print the accuracy\n",
    "#====================================================#\n",
    "modParam2 = {}\n",
    "modParam2['pi'] = np.array([NumTrainData/(NumTrainData*NumClass)]*NumClass)\n",
    "\n",
    "modParam2['mean']=np.zeros((NumClass,length_traindata))\n",
    "for classIX in range(NumClass):\n",
    "    modParam2['mean'][classIX] = np.mean(trainDataArr_corrected[classIX], axis = 0)\n",
    "\n",
    "modParam2['cov'] = np.zeros((NumClass,length_traindata,length_traindata))\n",
    "for classIX in range(NumClass):\n",
    "    S_class = np.zeros((length_traindata,length_traindata))\n",
    "    u = modParam2['mean'][classIX].reshape(-1,1)\n",
    "    for dataIX in range(NumTrainData):\n",
    "        X = trainDataArr_corrected[classIX,dataIX].reshape(-1,1)\n",
    "        S_class += np.dot(X-u,np.transpose(X-u))\n",
    "    modParam2['cov'][classIX] = S_class/NumTrainData\n",
    "\n",
    "accuracy = 0\n",
    "for classIX in range(NumClass):\n",
    "    for dataIX in range(NumTestData):\n",
    "        data_point = testDataArr_corrected[classIX, dataIX].reshape(-1,1)\n",
    "        alphas = np.zeros(NumClass)\n",
    "        for classIX in range(NumClass):\n",
    "            class_prob = modParam2['pi'][classIX]\n",
    "            class_mean = modParam2['mean'][classIX,:].reshape((-1,1))\n",
    "            class_cov = modParam2['cov'][classIX]\n",
    "            alpha_class = np.log(class_prob) - 1/2 * np.log(np.linalg.det(class_cov)) - 1/2 * np.matmul(np.matmul(np.transpose(data_point-class_mean),\\\n",
    "                                np.linalg.inv(class_cov)),(data_point-class_mean))\n",
    "            alphas[classIX] = alpha_class[0,0]\n",
    "        alpha_max = np.argmax(alphas)\n",
    "        if alpha_max == classIX:\n",
    "            accuracy += 1\n",
    "\n",
    "percent_accuracy = accuracy/(NumTestData*NumClass)\n",
    "print(percent_accuracy)\n",
    "#====================================================#\n",
    "# END YOUR CODE\n",
    "#====================================================# "
   ]
  },
  {
   "cell_type": "markdown",
   "metadata": {},
   "source": [
    "#### Question:\n",
    "What is the percent of test data points correctly classified? Is it higher or lower than your answer to part (a)? Why might this be?"
   ]
  },
  {
   "cell_type": "markdown",
   "metadata": {},
   "source": [
    "#### Your answer:  The percent of test data that is correctly classified is ~68%. It is lower than part a because the training data has been trained on less data points and therefore there is less information to build the model from the training data. This can lead to more error when the model is tested on the test data.\n"
   ]
  },
  {
   "cell_type": "markdown",
   "metadata": {},
   "source": [
    "### (d) (8 points) \n",
    "Now we classify using a naive Bayes model. Repeat part (a) for model iii). Keep the convention in part (c), where offending neurons were removed from the anal- ysis."
   ]
  },
  {
   "cell_type": "code",
   "execution_count": 39,
   "metadata": {},
   "outputs": [
    {
     "name": "stdout",
     "output_type": "stream",
     "text": [
      "0.8804945054945055\n"
     ]
    }
   ],
   "source": [
    "##4d\n",
    "#====================================================#\n",
    "# YOUR CODE HERE:\n",
    "# Fit the ML parameters,classify the test data and print the accuracy\n",
    "#====================================================#\n",
    "modParam3 = {}\n",
    "modParam3['pi'] = np.array([1/(1*NumClass)]*NumClass)\n",
    "modParam3['mean']=np.zeros((NumClass,length_traindata))\n",
    "for classIX in range(NumClass):\n",
    "    modParam3['mean'][classIX] = np.mean(trainDataArr_corrected[classIX], axis=0)\n",
    "\n",
    "accuracy = 0\n",
    "for classIX in range(NumClass):\n",
    "    for dataIX in range(NumTestData):\n",
    "        data_point = testDataArr_corrected[classIX, dataIX].reshape(-1,1)\n",
    "        alphas = np.zeros(NumClass)\n",
    "        for classIX in range(NumClass):\n",
    "            class_prob = modParam3['pi'][classIX]\n",
    "            class_mean = modParam3['mean'][classIX,:].reshape((-1,1))\n",
    "            alpha_class = np.log(class_prob) + np.sum(- class_mean + data_point * np.log(class_mean)\n",
    "                                     - np.log(scipy.special.factorial(data_point)), axis=0).reshape(1,1)\n",
    "            alphas[classIX] = alpha_class[0,0]\n",
    "        alpha_max = np.argmax(alphas)\n",
    "        if alpha_max == classIX:\n",
    "            accuracy += 1\n",
    "\n",
    "percent_accuracy = accuracy/(NumTestData*NumClass)\n",
    "print(percent_accuracy)\n",
    "#====================================================#\n",
    "# END YOUR CODE\n",
    "#====================================================# "
   ]
  },
  {
   "cell_type": "markdown",
   "metadata": {},
   "source": [
    "#### Question:\n",
    "what is the percent of test data points correctly classified? "
   ]
  },
  {
   "cell_type": "markdown",
   "metadata": {},
   "source": [
    "#### Your answer: The percent of test data correctly classified is ~88%.\n"
   ]
  }
 ],
 "metadata": {
  "kernelspec": {
   "display_name": "Python 3",
   "language": "python",
   "name": "python3"
  },
  "language_info": {
   "codemirror_mode": {
    "name": "ipython",
    "version": 3
   },
   "file_extension": ".py",
   "mimetype": "text/x-python",
   "name": "python",
   "nbconvert_exporter": "python",
   "pygments_lexer": "ipython3",
   "version": "3.8.8"
  }
 },
 "nbformat": 4,
 "nbformat_minor": 2
}
